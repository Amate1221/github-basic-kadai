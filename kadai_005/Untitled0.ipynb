{
  "nbformat": 4,
  "nbformat_minor": 0,
  "metadata": {
    "colab": {
      "provenance": []
    },
    "kernelspec": {
      "name": "python3",
      "display_name": "Python 3"
    },
    "language_info": {
      "name": "python"
    }
  },
  "cells": [
    {
      "cell_type": "code",
      "source": [
        "top_side = 10 #上辺\n",
        "bottom_side = 20 #下辺\n",
        "height = 5 #高さ\n",
        "\n",
        "#台形の面積 = (上辺 + 下辺) x 高さ ÷ 2\n",
        "print(f\"{(top_side + bottom_side) * height / 2}cm²\")\n"
      ],
      "metadata": {
        "colab": {
          "base_uri": "https://localhost:8080/"
        },
        "id": "yiU-_JDmA04h",
        "outputId": "96c30d0e-6ed0-4684-9072-1e83525aa705"
      },
      "execution_count": 18,
      "outputs": [
        {
          "output_type": "stream",
          "name": "stdout",
          "text": [
            "75.0cm²\n"
          ]
        }
      ]
    }
  ]
}