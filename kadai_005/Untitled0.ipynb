{
  "nbformat": 4,
  "nbformat_minor": 0,
  "metadata": {
    "colab": {
      "provenance": []
    },
    "kernelspec": {
      "name": "python3",
      "display_name": "Python 3"
    },
    "language_info": {
      "name": "python"
    }
  },
  "cells": [
    {
      "cell_type": "code",
      "source": [
        "from ctypes import ArgumentError\n",
        "top_side = 10 #上辺\n",
        "bottom_side = 20 #下辺\n",
        "hight = 5 #高さ\n",
        "\n",
        "#台形の面積=(上辺+下辺)x高さ÷2\n",
        "area = (top_side + bottom_side) * hight / 2\n",
        "\n",
        "print(f\"{area}cm²\")"
      ],
      "metadata": {
        "colab": {
          "base_uri": "https://localhost:8080/"
        },
        "id": "IP5Dt8VjM-TY",
        "outputId": "65d19a89-45be-4072-cbf5-f49b0214c2c5"
      },
      "execution_count": 21,
      "outputs": [
        {
          "output_type": "stream",
          "name": "stdout",
          "text": [
            "75.0cm²\n"
          ]
        }
      ]
    }
  ]
}